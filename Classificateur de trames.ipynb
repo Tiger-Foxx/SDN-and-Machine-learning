{
 "cells": [
  {
   "metadata": {},
   "cell_type": "markdown",
   "source": "# MODELES DE MACHINE LEARNING DE CLASSIFICATION DES TRAMES RESEAU",
   "id": "21927f0a8082c3f0"
  },
  {
   "metadata": {},
   "cell_type": "markdown",
   "source": "## IMPORTATION DES LIBRAIRIES ET DU DATASET",
   "id": "4c12e7ccdf696c0b"
  },
  {
   "metadata": {
    "ExecuteTime": {
     "end_time": "2024-12-19T12:39:04.554369Z",
     "start_time": "2024-12-19T12:39:04.543549Z"
    }
   },
   "cell_type": "code",
   "source": "# cd \"C:\\Users\\donfa\\OneDrive\\Desktop\\PROJET RESEAU\"",
   "id": "b8d973a939bd4380",
   "outputs": [
    {
     "name": "stdout",
     "output_type": "stream",
     "text": [
      "C:\\Users\\donfa\\OneDrive\\Desktop\\PROJET RESEAU\n"
     ]
    }
   ],
   "execution_count": 5
  },
  {
   "cell_type": "code",
   "id": "initial_id",
   "metadata": {
    "collapsed": true,
    "ExecuteTime": {
     "end_time": "2024-12-19T12:39:38.007036Z",
     "start_time": "2024-12-19T12:39:33.303237Z"
    }
   },
   "source": [
    "import seaborn as sn\n",
    "import matplotlib.pyplot as plt\n",
    "from imblearn.over_sampling import SMOTE\n",
    "from sklearn.linear_model import LogisticRegression\n",
    "from sklearn.tree import DecisionTreeClassifier\n",
    "from sklearn.ensemble import RandomForestClassifier\n",
    "# from xgboost import XGBClassifier # la librairie doit etre importee\n",
    "# from lightgbm import LGBMClassifier # la librairie doit etre importee\n",
    "from sklearn.model_selection import train_test_split\n",
    "from sklearn.ensemble import AdaBoostClassifier\n",
    "from sklearn.ensemble import GradientBoostingClassifier\n",
    "from sklearn.ensemble import BaggingClassifier\n",
    "import pandas as pd\n",
    "import numpy as np\n",
    "data=pd.read_csv('FlowStatsfile.csv')\n",
    "display(data)\n"
   ],
   "outputs": [
    {
     "data": {
      "text/plain": [
       "           timestamp  datapath_id                       flow_id        ip_src  \\\n",
       "0       1.679206e+09            4          10.0.0.11010.0.0.601     10.0.0.11   \n",
       "1       1.679206e+09            4          10.0.0.6010.0.0.1101      10.0.0.6   \n",
       "2       1.679206e+09            2    10.0.0.1505010.0.0.6585906      10.0.0.1   \n",
       "3       1.679206e+09            2   10.0.0.11505010.0.0.6585901     10.0.0.11   \n",
       "4       1.679206e+09            2    10.0.0.65859010.0.0.150506      10.0.0.6   \n",
       "...              ...          ...                           ...           ...   \n",
       "898438  1.679208e+09            1  94.7.138.1612154710.0.0.1806  94.7.138.161   \n",
       "898439  1.679208e+09            3           10.0.0.9010.0.0.901      10.0.0.9   \n",
       "898440  1.679208e+09            2           10.0.0.9010.0.0.901      10.0.0.9   \n",
       "898441  1.679208e+09            2           10.0.0.9010.0.0.901      10.0.0.9   \n",
       "898442  1.679208e+09            3           10.0.0.9010.0.0.901      10.0.0.9   \n",
       "\n",
       "        tp_src     ip_dst  tp_dst  ip_proto  icmp_code  icmp_type  ...  \\\n",
       "0            0   10.0.0.6       0         1          0          0  ...   \n",
       "1            0  10.0.0.11       0         1          0          8  ...   \n",
       "2         5050   10.0.0.6   58590         6         -1         -1  ...   \n",
       "3         5050   10.0.0.6   58590         1          0          0  ...   \n",
       "4        58590   10.0.0.1    5050         6          0          0  ...   \n",
       "...        ...        ...     ...       ...        ...        ...  ...   \n",
       "898438   21547   10.0.0.1      80         6         -1         -1  ...   \n",
       "898439       0   10.0.0.9       0         1          0          8  ...   \n",
       "898440       0   10.0.0.9       0         1          0          8  ...   \n",
       "898441       0   10.0.0.9       0         1          0          8  ...   \n",
       "898442       0   10.0.0.9       0         1          0          8  ...   \n",
       "\n",
       "        idle_timeout  hard_timeout  flags  packet_count   byte_count  \\\n",
       "0                 20           100      0             4          392   \n",
       "1                 20           100      0             4          392   \n",
       "2                 20           100      0        123106      8125380   \n",
       "3                 20           100      0             4          392   \n",
       "4                 20           100      0        557949  32038437970   \n",
       "...              ...           ...    ...           ...          ...   \n",
       "898438            20           100      0             0            0   \n",
       "898439            20           100      0       3964622    642268764   \n",
       "898440            20           100      0       3965485    642408570   \n",
       "898441            20           100      0       7917400   1282618800   \n",
       "898442            20           100      0       7916537   1282478994   \n",
       "\n",
       "        packet_count_per_second  packet_count_per_nsecond  \\\n",
       "0                      0.800000              1.428571e-07   \n",
       "1                      0.800000              1.250000e-07   \n",
       "2                  24621.200000              2.159754e-03   \n",
       "3                      0.800000              1.739130e-07   \n",
       "4                 111589.800000              8.999177e-03   \n",
       "...                         ...                       ...   \n",
       "898438                 0.000000              0.000000e+00   \n",
       "898439            495577.750000              2.202568e-01   \n",
       "898440            495685.625000              4.236629e-03   \n",
       "898441            439855.555556              8.449733e-03   \n",
       "898442            439807.611111              4.166598e-01   \n",
       "\n",
       "        byte_count_per_second  byte_count_per_nsecond  label  \n",
       "0                7.840000e+01                0.000014      0  \n",
       "1                7.840000e+01                0.000012      0  \n",
       "2                1.625076e+06                0.142551      0  \n",
       "3                7.840000e+01                0.000017      0  \n",
       "4                6.407688e+09              516.749000      0  \n",
       "...                       ...                     ...    ...  \n",
       "898438           0.000000e+00                0.000000      1  \n",
       "898439           8.028360e+07               35.681598      1  \n",
       "898440           8.030107e+07                0.686334      1  \n",
       "898441           7.125660e+07                1.368857      1  \n",
       "898442           7.124883e+07               67.498894      1  \n",
       "\n",
       "[898443 rows x 22 columns]"
      ],
      "text/html": [
       "<div>\n",
       "<style scoped>\n",
       "    .dataframe tbody tr th:only-of-type {\n",
       "        vertical-align: middle;\n",
       "    }\n",
       "\n",
       "    .dataframe tbody tr th {\n",
       "        vertical-align: top;\n",
       "    }\n",
       "\n",
       "    .dataframe thead th {\n",
       "        text-align: right;\n",
       "    }\n",
       "</style>\n",
       "<table border=\"1\" class=\"dataframe\">\n",
       "  <thead>\n",
       "    <tr style=\"text-align: right;\">\n",
       "      <th></th>\n",
       "      <th>timestamp</th>\n",
       "      <th>datapath_id</th>\n",
       "      <th>flow_id</th>\n",
       "      <th>ip_src</th>\n",
       "      <th>tp_src</th>\n",
       "      <th>ip_dst</th>\n",
       "      <th>tp_dst</th>\n",
       "      <th>ip_proto</th>\n",
       "      <th>icmp_code</th>\n",
       "      <th>icmp_type</th>\n",
       "      <th>...</th>\n",
       "      <th>idle_timeout</th>\n",
       "      <th>hard_timeout</th>\n",
       "      <th>flags</th>\n",
       "      <th>packet_count</th>\n",
       "      <th>byte_count</th>\n",
       "      <th>packet_count_per_second</th>\n",
       "      <th>packet_count_per_nsecond</th>\n",
       "      <th>byte_count_per_second</th>\n",
       "      <th>byte_count_per_nsecond</th>\n",
       "      <th>label</th>\n",
       "    </tr>\n",
       "  </thead>\n",
       "  <tbody>\n",
       "    <tr>\n",
       "      <th>0</th>\n",
       "      <td>1.679206e+09</td>\n",
       "      <td>4</td>\n",
       "      <td>10.0.0.11010.0.0.601</td>\n",
       "      <td>10.0.0.11</td>\n",
       "      <td>0</td>\n",
       "      <td>10.0.0.6</td>\n",
       "      <td>0</td>\n",
       "      <td>1</td>\n",
       "      <td>0</td>\n",
       "      <td>0</td>\n",
       "      <td>...</td>\n",
       "      <td>20</td>\n",
       "      <td>100</td>\n",
       "      <td>0</td>\n",
       "      <td>4</td>\n",
       "      <td>392</td>\n",
       "      <td>0.800000</td>\n",
       "      <td>1.428571e-07</td>\n",
       "      <td>7.840000e+01</td>\n",
       "      <td>0.000014</td>\n",
       "      <td>0</td>\n",
       "    </tr>\n",
       "    <tr>\n",
       "      <th>1</th>\n",
       "      <td>1.679206e+09</td>\n",
       "      <td>4</td>\n",
       "      <td>10.0.0.6010.0.0.1101</td>\n",
       "      <td>10.0.0.6</td>\n",
       "      <td>0</td>\n",
       "      <td>10.0.0.11</td>\n",
       "      <td>0</td>\n",
       "      <td>1</td>\n",
       "      <td>0</td>\n",
       "      <td>8</td>\n",
       "      <td>...</td>\n",
       "      <td>20</td>\n",
       "      <td>100</td>\n",
       "      <td>0</td>\n",
       "      <td>4</td>\n",
       "      <td>392</td>\n",
       "      <td>0.800000</td>\n",
       "      <td>1.250000e-07</td>\n",
       "      <td>7.840000e+01</td>\n",
       "      <td>0.000012</td>\n",
       "      <td>0</td>\n",
       "    </tr>\n",
       "    <tr>\n",
       "      <th>2</th>\n",
       "      <td>1.679206e+09</td>\n",
       "      <td>2</td>\n",
       "      <td>10.0.0.1505010.0.0.6585906</td>\n",
       "      <td>10.0.0.1</td>\n",
       "      <td>5050</td>\n",
       "      <td>10.0.0.6</td>\n",
       "      <td>58590</td>\n",
       "      <td>6</td>\n",
       "      <td>-1</td>\n",
       "      <td>-1</td>\n",
       "      <td>...</td>\n",
       "      <td>20</td>\n",
       "      <td>100</td>\n",
       "      <td>0</td>\n",
       "      <td>123106</td>\n",
       "      <td>8125380</td>\n",
       "      <td>24621.200000</td>\n",
       "      <td>2.159754e-03</td>\n",
       "      <td>1.625076e+06</td>\n",
       "      <td>0.142551</td>\n",
       "      <td>0</td>\n",
       "    </tr>\n",
       "    <tr>\n",
       "      <th>3</th>\n",
       "      <td>1.679206e+09</td>\n",
       "      <td>2</td>\n",
       "      <td>10.0.0.11505010.0.0.6585901</td>\n",
       "      <td>10.0.0.11</td>\n",
       "      <td>5050</td>\n",
       "      <td>10.0.0.6</td>\n",
       "      <td>58590</td>\n",
       "      <td>1</td>\n",
       "      <td>0</td>\n",
       "      <td>0</td>\n",
       "      <td>...</td>\n",
       "      <td>20</td>\n",
       "      <td>100</td>\n",
       "      <td>0</td>\n",
       "      <td>4</td>\n",
       "      <td>392</td>\n",
       "      <td>0.800000</td>\n",
       "      <td>1.739130e-07</td>\n",
       "      <td>7.840000e+01</td>\n",
       "      <td>0.000017</td>\n",
       "      <td>0</td>\n",
       "    </tr>\n",
       "    <tr>\n",
       "      <th>4</th>\n",
       "      <td>1.679206e+09</td>\n",
       "      <td>2</td>\n",
       "      <td>10.0.0.65859010.0.0.150506</td>\n",
       "      <td>10.0.0.6</td>\n",
       "      <td>58590</td>\n",
       "      <td>10.0.0.1</td>\n",
       "      <td>5050</td>\n",
       "      <td>6</td>\n",
       "      <td>0</td>\n",
       "      <td>0</td>\n",
       "      <td>...</td>\n",
       "      <td>20</td>\n",
       "      <td>100</td>\n",
       "      <td>0</td>\n",
       "      <td>557949</td>\n",
       "      <td>32038437970</td>\n",
       "      <td>111589.800000</td>\n",
       "      <td>8.999177e-03</td>\n",
       "      <td>6.407688e+09</td>\n",
       "      <td>516.749000</td>\n",
       "      <td>0</td>\n",
       "    </tr>\n",
       "    <tr>\n",
       "      <th>...</th>\n",
       "      <td>...</td>\n",
       "      <td>...</td>\n",
       "      <td>...</td>\n",
       "      <td>...</td>\n",
       "      <td>...</td>\n",
       "      <td>...</td>\n",
       "      <td>...</td>\n",
       "      <td>...</td>\n",
       "      <td>...</td>\n",
       "      <td>...</td>\n",
       "      <td>...</td>\n",
       "      <td>...</td>\n",
       "      <td>...</td>\n",
       "      <td>...</td>\n",
       "      <td>...</td>\n",
       "      <td>...</td>\n",
       "      <td>...</td>\n",
       "      <td>...</td>\n",
       "      <td>...</td>\n",
       "      <td>...</td>\n",
       "      <td>...</td>\n",
       "    </tr>\n",
       "    <tr>\n",
       "      <th>898438</th>\n",
       "      <td>1.679208e+09</td>\n",
       "      <td>1</td>\n",
       "      <td>94.7.138.1612154710.0.0.1806</td>\n",
       "      <td>94.7.138.161</td>\n",
       "      <td>21547</td>\n",
       "      <td>10.0.0.1</td>\n",
       "      <td>80</td>\n",
       "      <td>6</td>\n",
       "      <td>-1</td>\n",
       "      <td>-1</td>\n",
       "      <td>...</td>\n",
       "      <td>20</td>\n",
       "      <td>100</td>\n",
       "      <td>0</td>\n",
       "      <td>0</td>\n",
       "      <td>0</td>\n",
       "      <td>0.000000</td>\n",
       "      <td>0.000000e+00</td>\n",
       "      <td>0.000000e+00</td>\n",
       "      <td>0.000000</td>\n",
       "      <td>1</td>\n",
       "    </tr>\n",
       "    <tr>\n",
       "      <th>898439</th>\n",
       "      <td>1.679208e+09</td>\n",
       "      <td>3</td>\n",
       "      <td>10.0.0.9010.0.0.901</td>\n",
       "      <td>10.0.0.9</td>\n",
       "      <td>0</td>\n",
       "      <td>10.0.0.9</td>\n",
       "      <td>0</td>\n",
       "      <td>1</td>\n",
       "      <td>0</td>\n",
       "      <td>8</td>\n",
       "      <td>...</td>\n",
       "      <td>20</td>\n",
       "      <td>100</td>\n",
       "      <td>0</td>\n",
       "      <td>3964622</td>\n",
       "      <td>642268764</td>\n",
       "      <td>495577.750000</td>\n",
       "      <td>2.202568e-01</td>\n",
       "      <td>8.028360e+07</td>\n",
       "      <td>35.681598</td>\n",
       "      <td>1</td>\n",
       "    </tr>\n",
       "    <tr>\n",
       "      <th>898440</th>\n",
       "      <td>1.679208e+09</td>\n",
       "      <td>2</td>\n",
       "      <td>10.0.0.9010.0.0.901</td>\n",
       "      <td>10.0.0.9</td>\n",
       "      <td>0</td>\n",
       "      <td>10.0.0.9</td>\n",
       "      <td>0</td>\n",
       "      <td>1</td>\n",
       "      <td>0</td>\n",
       "      <td>8</td>\n",
       "      <td>...</td>\n",
       "      <td>20</td>\n",
       "      <td>100</td>\n",
       "      <td>0</td>\n",
       "      <td>3965485</td>\n",
       "      <td>642408570</td>\n",
       "      <td>495685.625000</td>\n",
       "      <td>4.236629e-03</td>\n",
       "      <td>8.030107e+07</td>\n",
       "      <td>0.686334</td>\n",
       "      <td>1</td>\n",
       "    </tr>\n",
       "    <tr>\n",
       "      <th>898441</th>\n",
       "      <td>1.679208e+09</td>\n",
       "      <td>2</td>\n",
       "      <td>10.0.0.9010.0.0.901</td>\n",
       "      <td>10.0.0.9</td>\n",
       "      <td>0</td>\n",
       "      <td>10.0.0.9</td>\n",
       "      <td>0</td>\n",
       "      <td>1</td>\n",
       "      <td>0</td>\n",
       "      <td>8</td>\n",
       "      <td>...</td>\n",
       "      <td>20</td>\n",
       "      <td>100</td>\n",
       "      <td>0</td>\n",
       "      <td>7917400</td>\n",
       "      <td>1282618800</td>\n",
       "      <td>439855.555556</td>\n",
       "      <td>8.449733e-03</td>\n",
       "      <td>7.125660e+07</td>\n",
       "      <td>1.368857</td>\n",
       "      <td>1</td>\n",
       "    </tr>\n",
       "    <tr>\n",
       "      <th>898442</th>\n",
       "      <td>1.679208e+09</td>\n",
       "      <td>3</td>\n",
       "      <td>10.0.0.9010.0.0.901</td>\n",
       "      <td>10.0.0.9</td>\n",
       "      <td>0</td>\n",
       "      <td>10.0.0.9</td>\n",
       "      <td>0</td>\n",
       "      <td>1</td>\n",
       "      <td>0</td>\n",
       "      <td>8</td>\n",
       "      <td>...</td>\n",
       "      <td>20</td>\n",
       "      <td>100</td>\n",
       "      <td>0</td>\n",
       "      <td>7916537</td>\n",
       "      <td>1282478994</td>\n",
       "      <td>439807.611111</td>\n",
       "      <td>4.166598e-01</td>\n",
       "      <td>7.124883e+07</td>\n",
       "      <td>67.498894</td>\n",
       "      <td>1</td>\n",
       "    </tr>\n",
       "  </tbody>\n",
       "</table>\n",
       "<p>898443 rows × 22 columns</p>\n",
       "</div>"
      ]
     },
     "metadata": {},
     "output_type": "display_data"
    }
   ],
   "execution_count": 6
  },
  {
   "metadata": {},
   "cell_type": "markdown",
   "source": "## EXPLORATION DES DONNEES",
   "id": "9aa0dc9e853b3ec3"
  },
  {
   "metadata": {
    "ExecuteTime": {
     "end_time": "2024-12-19T12:57:26.311577Z",
     "start_time": "2024-12-19T12:57:25.434210Z"
    }
   },
   "cell_type": "code",
   "source": [
    "print(data.columns)\n",
    "print(data.info())\n",
    "print(data.isna().sum())\n",
    "print(data.describe())\n"
   ],
   "id": "5d5b280cf939007a",
   "outputs": [
    {
     "name": "stdout",
     "output_type": "stream",
     "text": [
      "Index(['timestamp', 'datapath_id', 'flow_id', 'ip_src', 'tp_src', 'ip_dst',\n",
      "       'tp_dst', 'ip_proto', 'icmp_code', 'icmp_type', 'flow_duration_sec',\n",
      "       'flow_duration_nsec', 'idle_timeout', 'hard_timeout', 'flags',\n",
      "       'packet_count', 'byte_count', 'packet_count_per_second',\n",
      "       'packet_count_per_nsecond', 'byte_count_per_second',\n",
      "       'byte_count_per_nsecond', 'label'],\n",
      "      dtype='object')\n",
      "<class 'pandas.core.frame.DataFrame'>\n",
      "RangeIndex: 898443 entries, 0 to 898442\n",
      "Data columns (total 22 columns):\n",
      " #   Column                    Non-Null Count   Dtype  \n",
      "---  ------                    --------------   -----  \n",
      " 0   timestamp                 898443 non-null  float64\n",
      " 1   datapath_id               898443 non-null  int64  \n",
      " 2   flow_id                   898443 non-null  object \n",
      " 3   ip_src                    898443 non-null  object \n",
      " 4   tp_src                    898443 non-null  int64  \n",
      " 5   ip_dst                    898443 non-null  object \n",
      " 6   tp_dst                    898443 non-null  int64  \n",
      " 7   ip_proto                  898443 non-null  int64  \n",
      " 8   icmp_code                 898443 non-null  int64  \n",
      " 9   icmp_type                 898443 non-null  int64  \n",
      " 10  flow_duration_sec         898443 non-null  int64  \n",
      " 11  flow_duration_nsec        898443 non-null  int64  \n",
      " 12  idle_timeout              898443 non-null  int64  \n",
      " 13  hard_timeout              898443 non-null  int64  \n",
      " 14  flags                     898443 non-null  int64  \n",
      " 15  packet_count              898443 non-null  int64  \n",
      " 16  byte_count                898443 non-null  int64  \n",
      " 17  packet_count_per_second   898443 non-null  float64\n",
      " 18  packet_count_per_nsecond  898443 non-null  float64\n",
      " 19  byte_count_per_second     898443 non-null  float64\n",
      " 20  byte_count_per_nsecond    898443 non-null  float64\n",
      " 21  label                     898443 non-null  int64  \n",
      "dtypes: float64(5), int64(14), object(3)\n",
      "memory usage: 150.8+ MB\n",
      "None\n",
      "timestamp                   0\n",
      "datapath_id                 0\n",
      "flow_id                     0\n",
      "ip_src                      0\n",
      "tp_src                      0\n",
      "ip_dst                      0\n",
      "tp_dst                      0\n",
      "ip_proto                    0\n",
      "icmp_code                   0\n",
      "icmp_type                   0\n",
      "flow_duration_sec           0\n",
      "flow_duration_nsec          0\n",
      "idle_timeout                0\n",
      "hard_timeout                0\n",
      "flags                       0\n",
      "packet_count                0\n",
      "byte_count                  0\n",
      "packet_count_per_second     0\n",
      "packet_count_per_nsecond    0\n",
      "byte_count_per_second       0\n",
      "byte_count_per_nsecond      0\n",
      "label                       0\n",
      "dtype: int64\n",
      "          timestamp    datapath_id         tp_src         tp_dst  \\\n",
      "count  8.984430e+05  898443.000000  898443.000000  898443.000000   \n",
      "mean   1.679208e+09       3.660857   24423.457933     153.388389   \n",
      "std    1.456409e+02       1.437624   21877.163522    2210.749271   \n",
      "min    1.679206e+09       1.000000       0.000000       0.000000   \n",
      "25%    1.679208e+09       3.000000    1488.500000       0.000000   \n",
      "50%    1.679208e+09       4.000000   20110.000000       0.000000   \n",
      "75%    1.679208e+09       5.000000   43438.000000      80.000000   \n",
      "max    1.679208e+09       6.000000   65535.000000   60828.000000   \n",
      "\n",
      "            ip_proto      icmp_code      icmp_type  flow_duration_sec  \\\n",
      "count  898443.000000  898443.000000  898443.000000      898443.000000   \n",
      "mean        8.491539      -0.769574       1.056207           8.672932   \n",
      "std         6.287143       0.421106       3.776276           6.315401   \n",
      "min         1.000000      -1.000000      -1.000000           0.000000   \n",
      "25%         6.000000      -1.000000      -1.000000           3.000000   \n",
      "50%         6.000000      -1.000000      -1.000000          10.000000   \n",
      "75%        17.000000      -1.000000      -1.000000          14.000000   \n",
      "max        17.000000       0.000000       8.000000         100.000000   \n",
      "\n",
      "       flow_duration_nsec  idle_timeout  hard_timeout     flags  packet_count  \\\n",
      "count        8.984430e+05      898443.0      898443.0  898443.0  8.984430e+05   \n",
      "mean         4.918402e+08          20.0         100.0       0.0  6.525228e+02   \n",
      "std          2.882243e+08           0.0           0.0       0.0  2.619871e+04   \n",
      "min          0.000000e+00          20.0         100.0       0.0  0.000000e+00   \n",
      "25%          2.430000e+08          20.0         100.0       0.0  0.000000e+00   \n",
      "50%          4.860000e+08          20.0         100.0       0.0  0.000000e+00   \n",
      "75%          7.410000e+08          20.0         100.0       0.0  0.000000e+00   \n",
      "max          9.990000e+08          20.0         100.0       0.0  7.917400e+06   \n",
      "\n",
      "         byte_count  packet_count_per_second  packet_count_per_nsecond  \\\n",
      "count  8.984430e+05            898443.000000             898443.000000   \n",
      "mean   2.946058e+07                52.588394                  0.000003   \n",
      "std    1.269145e+09              2109.692227                  0.000518   \n",
      "min    0.000000e+00                 0.000000                  0.000000   \n",
      "25%    0.000000e+00                 0.000000                  0.000000   \n",
      "50%    0.000000e+00                 0.000000                  0.000000   \n",
      "75%    0.000000e+00                 0.000000                  0.000000   \n",
      "max    7.112308e+10            495685.625000                  0.416660   \n",
      "\n",
      "       byte_count_per_second  byte_count_per_nsecond          label  \n",
      "count           8.984430e+05           898443.000000  898443.000000  \n",
      "mean            2.365993e+06                0.120602       0.993030  \n",
      "std             1.043453e+08                8.075328       0.083194  \n",
      "min             0.000000e+00                0.000000       0.000000  \n",
      "25%             0.000000e+00                0.000000       1.000000  \n",
      "50%             0.000000e+00                0.000000       1.000000  \n",
      "75%             0.000000e+00                0.000000       1.000000  \n",
      "max             8.067727e+09             2109.150948       1.000000  \n"
     ]
    }
   ],
   "execution_count": 7
  },
  {
   "metadata": {
    "ExecuteTime": {
     "end_time": "2024-12-19T12:57:42.657527Z",
     "start_time": "2024-12-19T12:57:39.709626Z"
    }
   },
   "cell_type": "code",
   "source": [
    "num=data.select_dtypes(include='number').columns.values\n",
    "print(data['label'].value_counts())\n",
    "x=data[['timestamp','datapath_id','tp_src','tp_dst','ip_proto','icmp_code'\n",
    " ,'icmp_type','flow_duration_sec','flow_duration_nsec','idle_timeout'\n",
    " ,'hard_timeout','flags','packet_count','byte_count'\n",
    " ,'packet_count_per_second','packet_count_per_nsecond'\n",
    " ,'byte_count_per_second','byte_count_per_nsecond']]\n",
    "y=data['label']\n",
    "smote=SMOTE()\n",
    "x_sampled,y_sampled=smote.fit_resample(x,y)\n",
    "print(x_sampled)\n",
    "print('-----')\n",
    "print(y_sampled)\n",
    "\n",
    "'''for i in x_sampled.columns.values:\n",
    "    sn.boxplot(data[i])\n",
    "    plt.show()'''\n",
    "\n"
   ],
   "id": "59a9142df523f12a",
   "outputs": [
    {
     "name": "stdout",
     "output_type": "stream",
     "text": [
      "label\n",
      "1    892181\n",
      "0      6262\n",
      "Name: count, dtype: int64\n",
      "            timestamp  datapath_id  tp_src  tp_dst  ip_proto  icmp_code  \\\n",
      "0        1.679206e+09            4       0       0         1          0   \n",
      "1        1.679206e+09            4       0       0         1          0   \n",
      "2        1.679206e+09            2    5050   58590         6         -1   \n",
      "3        1.679206e+09            2    5050   58590         1          0   \n",
      "4        1.679206e+09            2   58590    5050         6          0   \n",
      "...               ...          ...     ...     ...       ...        ...   \n",
      "1784357  1.679207e+09            3      41   18327         3          0   \n",
      "1784358  1.679207e+09            3      80   35106         6         -1   \n",
      "1784359  1.679207e+09            2   32928    2661         6          0   \n",
      "1784360  1.679208e+09            3   33107   14536         6          0   \n",
      "1784361  1.679207e+09            1   49489    1470         9          0   \n",
      "\n",
      "         icmp_type  flow_duration_sec  flow_duration_nsec  idle_timeout  \\\n",
      "0                0                  5            28000000            20   \n",
      "1                8                  5            32000000            20   \n",
      "2               -1                  5            57000000            20   \n",
      "3                0                  5            23000000            20   \n",
      "4                0                  5            62000000            20   \n",
      "...            ...                ...                 ...           ...   \n",
      "1784357          0                 39           451000000            20   \n",
      "1784358         -1                 10           332096248            20   \n",
      "1784359          7                  8           959000000            20   \n",
      "1784360          4                 39           537000000            20   \n",
      "1784361          0                  0           788000000            20   \n",
      "\n",
      "         hard_timeout  flags  packet_count   byte_count  \\\n",
      "0                 100      0             4          392   \n",
      "1                 100      0             4          392   \n",
      "2                 100      0        123106      8125380   \n",
      "3                 100      0             4          392   \n",
      "4                 100      0        557949  32038437970   \n",
      "...               ...    ...           ...          ...   \n",
      "1784357           100      0            40         4065   \n",
      "1784358           100      0             4          584   \n",
      "1784359           100      0             4          427   \n",
      "1784360           100      0            36         3612   \n",
      "1784361           100      0            52        78312   \n",
      "\n",
      "         packet_count_per_second  packet_count_per_nsecond  \\\n",
      "0                       0.800000              1.428571e-07   \n",
      "1                       0.800000              1.250000e-07   \n",
      "2                   24621.200000              2.159754e-03   \n",
      "3                       0.800000              1.739130e-07   \n",
      "4                  111589.800000              8.999177e-03   \n",
      "...                          ...                       ...   \n",
      "1784357                 1.507503              8.975883e-08   \n",
      "1784358                 0.713631              1.204471e-08   \n",
      "1784359                 0.609181              4.692558e-09   \n",
      "1784360                 0.646775              6.865213e-08   \n",
      "1784361                25.881368              6.568875e-08   \n",
      "\n",
      "         byte_count_per_second  byte_count_per_nsecond  \n",
      "0                 7.840000e+01            1.400000e-05  \n",
      "1                 7.840000e+01            1.225000e-05  \n",
      "2                 1.625076e+06            1.425505e-01  \n",
      "3                 7.840000e+01            1.704348e-05  \n",
      "4                 6.407688e+09            5.167490e+02  \n",
      "...                        ...                     ...  \n",
      "1784357           1.970393e+02            9.015009e-06  \n",
      "1784358           1.041901e+02            1.758528e-06  \n",
      "1784359           5.789004e+01            4.458675e-07  \n",
      "1784360           6.338399e+01            6.727909e-06  \n",
      "1784361           3.913263e+04            9.932139e-05  \n",
      "\n",
      "[1784362 rows x 18 columns]\n",
      "-----\n",
      "0          0\n",
      "1          0\n",
      "2          0\n",
      "3          0\n",
      "4          0\n",
      "          ..\n",
      "1784357    0\n",
      "1784358    0\n",
      "1784359    0\n",
      "1784360    0\n",
      "1784361    0\n",
      "Name: label, Length: 1784362, dtype: int64\n"
     ]
    },
    {
     "data": {
      "text/plain": [
       "'for i in x_sampled.columns.values:\\n    sn.boxplot(data[i])\\n    plt.show()'"
      ]
     },
     "execution_count": 8,
     "metadata": {},
     "output_type": "execute_result"
    }
   ],
   "execution_count": 8
  },
  {
   "metadata": {
    "ExecuteTime": {
     "end_time": "2024-12-19T12:57:53.317888Z",
     "start_time": "2024-12-19T12:57:51.337112Z"
    }
   },
   "cell_type": "code",
   "source": [
    "plt.figure(figsize=(17,6))\n",
    "corr = data.corr(method='kendall')\n",
    "my_m=np.triu(corr)\n",
    "sn.heatmap(corr, mask=my_m, annot=True, cmap=\"Set2\")\n",
    "plt.show()\n",
    "\n",
    "'''for i in data.select_dtypes(include='number').columns.values:\n",
    "    for j in data.select_dtypes(include='number').columns.values:\n",
    "        plt.plot(data[i],marker='o',label=f\"{i}\",color='red')\n",
    "        plt.plot(data[j],marker='x',label=f\"{j}\",color=\"blue\")\n",
    "        plt.title(f\"ITS {i} vs {j}\")\n",
    "        plt.legend()\n",
    "        plt.show()'''\n",
    "\n"
   ],
   "id": "dc431512173f35d3",
   "outputs": [
    {
     "ename": "ValueError",
     "evalue": "could not convert string to float: '10.0.0.11010.0.0.601'",
     "output_type": "error",
     "traceback": [
      "\u001B[1;31m---------------------------------------------------------------------------\u001B[0m",
      "\u001B[1;31mValueError\u001B[0m                                Traceback (most recent call last)",
      "Cell \u001B[1;32mIn[9], line 2\u001B[0m\n\u001B[0;32m      1\u001B[0m plt\u001B[38;5;241m.\u001B[39mfigure(figsize\u001B[38;5;241m=\u001B[39m(\u001B[38;5;241m17\u001B[39m,\u001B[38;5;241m6\u001B[39m))\n\u001B[1;32m----> 2\u001B[0m corr \u001B[38;5;241m=\u001B[39m data\u001B[38;5;241m.\u001B[39mcorr(method\u001B[38;5;241m=\u001B[39m\u001B[38;5;124m'\u001B[39m\u001B[38;5;124mkendall\u001B[39m\u001B[38;5;124m'\u001B[39m)\n\u001B[0;32m      3\u001B[0m my_m\u001B[38;5;241m=\u001B[39mnp\u001B[38;5;241m.\u001B[39mtriu(corr)\n\u001B[0;32m      4\u001B[0m sn\u001B[38;5;241m.\u001B[39mheatmap(corr, mask\u001B[38;5;241m=\u001B[39mmy_m, annot\u001B[38;5;241m=\u001B[39m\u001B[38;5;28;01mTrue\u001B[39;00m, cmap\u001B[38;5;241m=\u001B[39m\u001B[38;5;124m\"\u001B[39m\u001B[38;5;124mSet2\u001B[39m\u001B[38;5;124m\"\u001B[39m)\n",
      "File \u001B[1;32mC:\\ProgramData\\anaconda3\\Lib\\site-packages\\pandas\\core\\frame.py:11049\u001B[0m, in \u001B[0;36mDataFrame.corr\u001B[1;34m(self, method, min_periods, numeric_only)\u001B[0m\n\u001B[0;32m  11047\u001B[0m cols \u001B[38;5;241m=\u001B[39m data\u001B[38;5;241m.\u001B[39mcolumns\n\u001B[0;32m  11048\u001B[0m idx \u001B[38;5;241m=\u001B[39m cols\u001B[38;5;241m.\u001B[39mcopy()\n\u001B[1;32m> 11049\u001B[0m mat \u001B[38;5;241m=\u001B[39m data\u001B[38;5;241m.\u001B[39mto_numpy(dtype\u001B[38;5;241m=\u001B[39m\u001B[38;5;28mfloat\u001B[39m, na_value\u001B[38;5;241m=\u001B[39mnp\u001B[38;5;241m.\u001B[39mnan, copy\u001B[38;5;241m=\u001B[39m\u001B[38;5;28;01mFalse\u001B[39;00m)\n\u001B[0;32m  11051\u001B[0m \u001B[38;5;28;01mif\u001B[39;00m method \u001B[38;5;241m==\u001B[39m \u001B[38;5;124m\"\u001B[39m\u001B[38;5;124mpearson\u001B[39m\u001B[38;5;124m\"\u001B[39m:\n\u001B[0;32m  11052\u001B[0m     correl \u001B[38;5;241m=\u001B[39m libalgos\u001B[38;5;241m.\u001B[39mnancorr(mat, minp\u001B[38;5;241m=\u001B[39mmin_periods)\n",
      "File \u001B[1;32mC:\\ProgramData\\anaconda3\\Lib\\site-packages\\pandas\\core\\frame.py:1993\u001B[0m, in \u001B[0;36mDataFrame.to_numpy\u001B[1;34m(self, dtype, copy, na_value)\u001B[0m\n\u001B[0;32m   1991\u001B[0m \u001B[38;5;28;01mif\u001B[39;00m dtype \u001B[38;5;129;01mis\u001B[39;00m \u001B[38;5;129;01mnot\u001B[39;00m \u001B[38;5;28;01mNone\u001B[39;00m:\n\u001B[0;32m   1992\u001B[0m     dtype \u001B[38;5;241m=\u001B[39m np\u001B[38;5;241m.\u001B[39mdtype(dtype)\n\u001B[1;32m-> 1993\u001B[0m result \u001B[38;5;241m=\u001B[39m \u001B[38;5;28mself\u001B[39m\u001B[38;5;241m.\u001B[39m_mgr\u001B[38;5;241m.\u001B[39mas_array(dtype\u001B[38;5;241m=\u001B[39mdtype, copy\u001B[38;5;241m=\u001B[39mcopy, na_value\u001B[38;5;241m=\u001B[39mna_value)\n\u001B[0;32m   1994\u001B[0m \u001B[38;5;28;01mif\u001B[39;00m result\u001B[38;5;241m.\u001B[39mdtype \u001B[38;5;129;01mis\u001B[39;00m \u001B[38;5;129;01mnot\u001B[39;00m dtype:\n\u001B[0;32m   1995\u001B[0m     result \u001B[38;5;241m=\u001B[39m np\u001B[38;5;241m.\u001B[39masarray(result, dtype\u001B[38;5;241m=\u001B[39mdtype)\n",
      "File \u001B[1;32mC:\\ProgramData\\anaconda3\\Lib\\site-packages\\pandas\\core\\internals\\managers.py:1694\u001B[0m, in \u001B[0;36mBlockManager.as_array\u001B[1;34m(self, dtype, copy, na_value)\u001B[0m\n\u001B[0;32m   1692\u001B[0m         arr\u001B[38;5;241m.\u001B[39mflags\u001B[38;5;241m.\u001B[39mwriteable \u001B[38;5;241m=\u001B[39m \u001B[38;5;28;01mFalse\u001B[39;00m\n\u001B[0;32m   1693\u001B[0m \u001B[38;5;28;01melse\u001B[39;00m:\n\u001B[1;32m-> 1694\u001B[0m     arr \u001B[38;5;241m=\u001B[39m \u001B[38;5;28mself\u001B[39m\u001B[38;5;241m.\u001B[39m_interleave(dtype\u001B[38;5;241m=\u001B[39mdtype, na_value\u001B[38;5;241m=\u001B[39mna_value)\n\u001B[0;32m   1695\u001B[0m     \u001B[38;5;66;03m# The underlying data was copied within _interleave, so no need\u001B[39;00m\n\u001B[0;32m   1696\u001B[0m     \u001B[38;5;66;03m# to further copy if copy=True or setting na_value\u001B[39;00m\n\u001B[0;32m   1698\u001B[0m \u001B[38;5;28;01mif\u001B[39;00m na_value \u001B[38;5;129;01mis\u001B[39;00m lib\u001B[38;5;241m.\u001B[39mno_default:\n",
      "File \u001B[1;32mC:\\ProgramData\\anaconda3\\Lib\\site-packages\\pandas\\core\\internals\\managers.py:1753\u001B[0m, in \u001B[0;36mBlockManager._interleave\u001B[1;34m(self, dtype, na_value)\u001B[0m\n\u001B[0;32m   1751\u001B[0m     \u001B[38;5;28;01melse\u001B[39;00m:\n\u001B[0;32m   1752\u001B[0m         arr \u001B[38;5;241m=\u001B[39m blk\u001B[38;5;241m.\u001B[39mget_values(dtype)\n\u001B[1;32m-> 1753\u001B[0m     result[rl\u001B[38;5;241m.\u001B[39mindexer] \u001B[38;5;241m=\u001B[39m arr\n\u001B[0;32m   1754\u001B[0m     itemmask[rl\u001B[38;5;241m.\u001B[39mindexer] \u001B[38;5;241m=\u001B[39m \u001B[38;5;241m1\u001B[39m\n\u001B[0;32m   1756\u001B[0m \u001B[38;5;28;01mif\u001B[39;00m \u001B[38;5;129;01mnot\u001B[39;00m itemmask\u001B[38;5;241m.\u001B[39mall():\n",
      "\u001B[1;31mValueError\u001B[0m: could not convert string to float: '10.0.0.11010.0.0.601'"
     ]
    },
    {
     "data": {
      "text/plain": [
       "<Figure size 1700x600 with 0 Axes>"
      ]
     },
     "metadata": {},
     "output_type": "display_data"
    }
   ],
   "execution_count": 9
  },
  {
   "metadata": {
    "ExecuteTime": {
     "end_time": "2024-12-19T12:58:14.603576Z",
     "start_time": "2024-12-19T12:58:13.851815Z"
    }
   },
   "cell_type": "code",
   "source": [
    "data['z-scores']=(data.timestamp-data.timestamp.mean())/(data.timestamp.std())\n",
    "df=data[(data['z-scores']<3)&(data['z-scores']>-3)]\n",
    "q1=df.timestamp.quantile(0.28)\n",
    "q3=df.timestamp.quantile(0.72)\n",
    "iqr=q3-q1\n",
    "u=q3+1.5*iqr\n",
    "l=q1-1.5*iqr\n",
    "df=df[(df.timestamp > l )&(df.timestamp < u)]\n"
   ],
   "id": "80d231343739b641",
   "outputs": [],
   "execution_count": 10
  },
  {
   "metadata": {
    "ExecuteTime": {
     "end_time": "2024-12-19T13:00:44.898235Z",
     "start_time": "2024-12-19T13:00:44.194381Z"
    }
   },
   "cell_type": "code",
   "source": [
    "\n",
    "df['z-scores']=(df.flow_duration_sec-df.flow_duration_sec.mean())/(df.flow_duration_sec.std())\n",
    "df=df[(df['z-scores']<3)&(df['z-scores']>-3)]\n",
    "q_1=df.flow_duration_sec.quantile(0.25)\n",
    "q_3=df.flow_duration_sec.quantile(0.75)\n",
    "iq_r=q_3-q_1\n",
    "upp=q_3+1.5*iq_r\n",
    "low=q_1-1.5*iq_r\n",
    "df=df[(df.flow_duration_sec > low )&(df.flow_duration_sec < upp)]\n",
    "\n",
    "print(data.select_dtypes(include='number').columns.values)\n",
    "'''for i in x_sampled.columns.values:\n",
    "    sn.boxplot(df[i])\n",
    "    plt.show()'''\n",
    "\n"
   ],
   "id": "1941fde7b180cd2",
   "outputs": [
    {
     "name": "stdout",
     "output_type": "stream",
     "text": [
      "['timestamp' 'datapath_id' 'tp_src' 'tp_dst' 'ip_proto' 'icmp_code'\n",
      " 'icmp_type' 'flow_duration_sec' 'flow_duration_nsec' 'idle_timeout'\n",
      " 'hard_timeout' 'flags' 'packet_count' 'byte_count'\n",
      " 'packet_count_per_second' 'packet_count_per_nsecond'\n",
      " 'byte_count_per_second' 'byte_count_per_nsecond' 'label' 'z-scores']\n"
     ]
    },
    {
     "data": {
      "text/plain": [
       "'for i in x_sampled.columns.values:\\n    sn.boxplot(df[i])\\n    plt.show()'"
      ]
     },
     "execution_count": 11,
     "metadata": {},
     "output_type": "execute_result"
    }
   ],
   "execution_count": 11
  },
  {
   "metadata": {
    "ExecuteTime": {
     "end_time": "2024-12-19T13:00:56.479097Z",
     "start_time": "2024-12-19T13:00:55.767197Z"
    }
   },
   "cell_type": "code",
   "source": [
    "colones=['timestamp','datapath_id','tp_src','tp_dst','ip_proto','icmp_code'\n",
    " ,'icmp_type','flow_duration_sec','flow_duration_nsec','idle_timeout'\n",
    " ,'hard_timeout','flags','packet_count','byte_count'\n",
    " ,'packet_count_per_second','packet_count_per_nsecond'\n",
    " ,'byte_count_per_second','byte_count_per_nsecond']\n",
    "\n",
    "x=df[['timestamp','datapath_id','tp_src','tp_dst','ip_proto','icmp_code'\n",
    " ,'icmp_type','flow_duration_sec','flow_duration_nsec','idle_timeout'\n",
    " ,'hard_timeout','flags','packet_count','byte_count'\n",
    " ,'packet_count_per_second','packet_count_per_nsecond'\n",
    " ,'byte_count_per_second','byte_count_per_nsecond']]\n",
    "y=df[['label']]\n",
    "\n",
    "'''x=data[['timestamp','datapath_id','tp_src','tp_dst','ip_proto','icmp_code'\n",
    " ,'hard_timeout','flags','packet_count','byte_count'\n",
    " ,'packet_count_per_second','packet_count_per_nsecond'\n",
    " ,'byte_count_per_second','byte_count_per_nsecond']]\n",
    "y=data[['label']]'''\n",
    "\n",
    "x_train,x_test,y_train,y_test=train_test_split(x,y)\n"
   ],
   "id": "315646d9d7a71508",
   "outputs": [],
   "execution_count": 12
  },
  {
   "metadata": {},
   "cell_type": "code",
   "outputs": [],
   "execution_count": null,
   "source": "",
   "id": "d952b5958ed9aaf4"
  },
  {
   "metadata": {},
   "cell_type": "markdown",
   "source": "## TESTS DE DIFFERENTS ALGORITHMES ET MESURES DE SCORES",
   "id": "9f49bed112600e89"
  },
  {
   "metadata": {},
   "cell_type": "markdown",
   "source": "#### REGRESSION LOGISTIQUE",
   "id": "333a67f867faa1af"
  },
  {
   "metadata": {
    "ExecuteTime": {
     "end_time": "2024-12-19T13:01:23.993545Z",
     "start_time": "2024-12-19T13:01:07.690748Z"
    }
   },
   "cell_type": "code",
   "source": [
    "lr=LogisticRegression()\n",
    "lr.fit(x_train,y_train)\n",
    "print('The logistic regression: ',lr.score(x_sampled,y_sampled))"
   ],
   "id": "ad854a1fab22d98e",
   "outputs": [
    {
     "name": "stderr",
     "output_type": "stream",
     "text": [
      "C:\\ProgramData\\anaconda3\\Lib\\site-packages\\sklearn\\utils\\validation.py:1300: DataConversionWarning: A column-vector y was passed when a 1d array was expected. Please change the shape of y to (n_samples, ), for example using ravel().\n",
      "  y = column_or_1d(y, warn=True)\n",
      "C:\\ProgramData\\anaconda3\\Lib\\site-packages\\sklearn\\linear_model\\_logistic.py:469: ConvergenceWarning: lbfgs failed to converge (status=1):\n",
      "STOP: TOTAL NO. of ITERATIONS REACHED LIMIT.\n",
      "\n",
      "Increase the number of iterations (max_iter) or scale the data as shown in:\n",
      "    https://scikit-learn.org/stable/modules/preprocessing.html\n",
      "Please also refer to the documentation for alternative solver options:\n",
      "    https://scikit-learn.org/stable/modules/linear_model.html#logistic-regression\n",
      "  n_iter_i = _check_optimize_result(\n"
     ]
    },
    {
     "name": "stdout",
     "output_type": "stream",
     "text": [
      "The logistic regression:  0.5132394659827995\n"
     ]
    }
   ],
   "execution_count": 13
  },
  {
   "metadata": {},
   "cell_type": "markdown",
   "source": "#### CLASSIFICATEUR XGBOOST",
   "id": "40b747e9cb71b363"
  },
  {
   "metadata": {},
   "cell_type": "code",
   "outputs": [],
   "execution_count": null,
   "source": [
    "# xgb=XGBClassifier()\n",
    "# xgb.fit(x_train,y_train)\n",
    "# print(\"the Xgb : \",xgb.score(x_sampled,y_sampled))\n",
    "# \n"
   ],
   "id": "68ca7af877824d26"
  },
  {
   "metadata": {},
   "cell_type": "markdown",
   "source": "#### CLASSIFICATEUR LMBG",
   "id": "6817fd426d8b843b"
  },
  {
   "metadata": {},
   "cell_type": "code",
   "outputs": [],
   "execution_count": null,
   "source": [
    "# lgb=LGBMClassifier()\n",
    "# lgb.fit(x_train,y_train)\n",
    "# print('The LGB',lgb.score(x_sampled,y_sampled))\n",
    "\n"
   ],
   "id": "b8553bf8be08d576"
  },
  {
   "metadata": {},
   "cell_type": "markdown",
   "source": "#### ARBRE DE DESCISION",
   "id": "5873b3e82ba5bb90"
  },
  {
   "metadata": {
    "ExecuteTime": {
     "end_time": "2024-12-19T13:24:20.065889Z",
     "start_time": "2024-12-19T13:24:19.087150Z"
    }
   },
   "cell_type": "code",
   "source": [
    "import  joblib\n",
    "\n",
    "tree=DecisionTreeClassifier()\n",
    "tree.fit(x_train,y_train)\n",
    "print('Dtree ',tree.score(x_sampled,y_sampled))\n",
    "# Exportation du modèle\n",
    "joblib.dump(tree, 'decision_tree_model.pkl')\n",
    "print(\"Modèle exporté sous le nom 'decision_tree_model.pkl'\")\n"
   ],
   "id": "34776debc5f0728a",
   "outputs": [
    {
     "name": "stdout",
     "output_type": "stream",
     "text": [
      "Dtree  1.0\n",
      "Modèle exporté sous le nom 'decision_tree_model.pkl'\n"
     ]
    }
   ],
   "execution_count": 20
  },
  {
   "metadata": {},
   "cell_type": "markdown",
   "source": "#### RANDOM FOREST",
   "id": "686f511d36457d09"
  },
  {
   "metadata": {
    "ExecuteTime": {
     "end_time": "2024-12-19T13:02:56.901563Z",
     "start_time": "2024-12-19T13:02:25.266147Z"
    }
   },
   "cell_type": "code",
   "source": [
    "rforest=RandomForestClassifier()\n",
    "rforest.fit(x_train,y_train)\n",
    "print('The random forest: ',rforest.score(x_sampled,y_sampled))\n",
    "\n"
   ],
   "id": "8f021f6d5e893388",
   "outputs": [
    {
     "name": "stderr",
     "output_type": "stream",
     "text": [
      "C:\\ProgramData\\anaconda3\\Lib\\site-packages\\sklearn\\base.py:1474: DataConversionWarning: A column-vector y was passed when a 1d array was expected. Please change the shape of y to (n_samples,), for example using ravel().\n",
      "  return fit_method(estimator, *args, **kwargs)\n"
     ]
    },
    {
     "name": "stdout",
     "output_type": "stream",
     "text": [
      "The random forest:  1.0\n"
     ]
    }
   ],
   "execution_count": 15
  },
  {
   "metadata": {},
   "cell_type": "markdown",
   "source": "#### ADABOOST CLASSIFICATEUR",
   "id": "d787d9375356cc3a"
  },
  {
   "metadata": {
    "ExecuteTime": {
     "end_time": "2024-12-19T13:03:16.085678Z",
     "start_time": "2024-12-19T13:03:14.139843Z"
    }
   },
   "cell_type": "code",
   "source": [
    "adb=AdaBoostClassifier()\n",
    "adb.fit(x_train,y_train)\n",
    "print('the adb ',adb.score(x_sampled,y_sampled))\n"
   ],
   "id": "5ad6c1ab1b32ffe3",
   "outputs": [
    {
     "name": "stderr",
     "output_type": "stream",
     "text": [
      "C:\\ProgramData\\anaconda3\\Lib\\site-packages\\sklearn\\utils\\validation.py:1300: DataConversionWarning: A column-vector y was passed when a 1d array was expected. Please change the shape of y to (n_samples, ), for example using ravel().\n",
      "  y = column_or_1d(y, warn=True)\n",
      "C:\\ProgramData\\anaconda3\\Lib\\site-packages\\sklearn\\ensemble\\_weight_boosting.py:519: FutureWarning: The SAMME.R algorithm (the default) is deprecated and will be removed in 1.6. Use the SAMME algorithm to circumvent this warning.\n",
      "  warnings.warn(\n"
     ]
    },
    {
     "name": "stdout",
     "output_type": "stream",
     "text": [
      "the adb  1.0\n"
     ]
    }
   ],
   "execution_count": 16
  },
  {
   "metadata": {},
   "cell_type": "markdown",
   "source": "#### GRADIENT BOOSTING ",
   "id": "33c1ab32a033bc54"
  },
  {
   "metadata": {
    "ExecuteTime": {
     "end_time": "2024-12-19T13:05:34.705051Z",
     "start_time": "2024-12-19T13:05:12.575131Z"
    }
   },
   "cell_type": "code",
   "source": [
    "grb=GradientBoostingClassifier()\n",
    "grb.fit(x_train,y_train)\n",
    "print('Gradient boosting ',grb.score(x_sampled,y_sampled))\n",
    "\n"
   ],
   "id": "a7bf614e38db5b0a",
   "outputs": [
    {
     "name": "stderr",
     "output_type": "stream",
     "text": [
      "C:\\ProgramData\\anaconda3\\Lib\\site-packages\\sklearn\\preprocessing\\_label.py:114: DataConversionWarning: A column-vector y was passed when a 1d array was expected. Please change the shape of y to (n_samples, ), for example using ravel().\n",
      "  y = column_or_1d(y, warn=True)\n"
     ]
    },
    {
     "name": "stdout",
     "output_type": "stream",
     "text": [
      "Gradient boosting  1.0\n"
     ]
    }
   ],
   "execution_count": 17
  },
  {
   "metadata": {},
   "cell_type": "markdown",
   "source": "#### CLASSIFICATEUR BAGGING",
   "id": "9b7890d9ae1b935d"
  },
  {
   "metadata": {
    "ExecuteTime": {
     "end_time": "2024-12-19T13:05:47.175846Z",
     "start_time": "2024-12-19T13:05:38.158583Z"
    }
   },
   "cell_type": "code",
   "source": [
    "bag=BaggingClassifier()\n",
    "bag.fit(x_train,y_train)\n",
    "print('Bagging',bag.score(x_sampled,y_sampled))"
   ],
   "id": "769925e17ab80af6",
   "outputs": [
    {
     "name": "stderr",
     "output_type": "stream",
     "text": [
      "C:\\ProgramData\\anaconda3\\Lib\\site-packages\\sklearn\\ensemble\\_bagging.py:782: DataConversionWarning: A column-vector y was passed when a 1d array was expected. Please change the shape of y to (n_samples, ), for example using ravel().\n",
      "  y = column_or_1d(y, warn=True)\n"
     ]
    },
    {
     "name": "stdout",
     "output_type": "stream",
     "text": [
      "Bagging 1.0\n"
     ]
    }
   ],
   "execution_count": 18
  },
  {
   "metadata": {
    "ExecuteTime": {
     "end_time": "2024-12-19T13:26:14.869639Z",
     "start_time": "2024-12-19T13:26:14.859272Z"
    }
   },
   "cell_type": "code",
   "source": [
    "import joblib\n",
    "import pandas as pd\n",
    "\n",
    "def predict_label(data):\n",
    "    \"\"\"\n",
    "    Charge le modèle de classification et prédit les labels pour les données fournies.\n",
    "    \n",
    "    Args:\n",
    "        data (pd.DataFrame): Un DataFrame contenant les colonnes suivantes :\n",
    "            ['timestamp', 'datapath_id', 'tp_src', 'tp_dst', 'ip_proto', \n",
    "             'icmp_code', 'icmp_type', 'flow_duration_sec', 'flow_duration_nsec',\n",
    "             'idle_timeout', 'hard_timeout', 'flags', 'packet_count', \n",
    "             'byte_count', 'packet_count_per_second', 'packet_count_per_nsecond',\n",
    "             'byte_count_per_second', 'byte_count_per_nsecond']\n",
    "    \n",
    "    Returns:\n",
    "        pd.Series: Les prédictions du modèle (0 pour légitime, 1 pour attaque).\n",
    "    \"\"\"\n",
    "    # Charger le modèle exporté\n",
    "    model = joblib.load('decision_tree_model.pkl')\n",
    "    \n",
    "    # Assurez-vous que les colonnes nécessaires sont présentes\n",
    "    required_columns = [\n",
    "        'timestamp', 'datapath_id', 'tp_src', 'tp_dst', 'ip_proto',\n",
    "        'icmp_code', 'icmp_type', 'flow_duration_sec', 'flow_duration_nsec',\n",
    "        'idle_timeout', 'hard_timeout', 'flags', 'packet_count', \n",
    "        'byte_count', 'packet_count_per_second', 'packet_count_per_nsecond',\n",
    "        'byte_count_per_second', 'byte_count_per_nsecond'\n",
    "    ]\n",
    "    \n",
    "    if not all(col in data.columns for col in required_columns):\n",
    "        raise ValueError(\"Les colonnes nécessaires ne sont pas présentes dans les données d'entrée.\")\n",
    "    \n",
    "    # Filtrer les colonnes nécessaires pour les prédictions\n",
    "    data_filtered = data[required_columns]\n",
    "    \n",
    "    # Faire des prédictions\n",
    "    predictions = model.predict(data_filtered)\n",
    "    return pd.Series(predictions, index=data.index, name='Predictions')\n"
   ],
   "id": "6caac37bb99b08fc",
   "outputs": [],
   "execution_count": 22
  },
  {
   "metadata": {
    "ExecuteTime": {
     "end_time": "2024-12-19T13:44:58.947311Z",
     "start_time": "2024-12-19T13:44:58.921182Z"
    }
   },
   "cell_type": "code",
   "source": [
    "# Exemple de données\n",
    "sample_data = pd.DataFrame({\n",
    "    'timestamp': [123456789, 987654321],\n",
    "    'datapath_id': [1, 2],\n",
    "    'tp_src': [80, 8080],\n",
    "    'tp_dst': [443, 53],\n",
    "    'ip_proto': [6, 17],\n",
    "    'icmp_code': [0, 0],\n",
    "    'icmp_type': [8, 0],\n",
    "    'flow_duration_sec': [5, 10],\n",
    "    'flow_duration_nsec': [200, 400],\n",
    "    'idle_timeout': [30, 60],\n",
    "    'hard_timeout': [60, 120],\n",
    "    'flags': [2, 18],\n",
    "    'packet_count': [50, 100],\n",
    "    'byte_count': [2048, 4096],\n",
    "    'packet_count_per_second': [10, 20],\n",
    "    'packet_count_per_nsecond': [1000, 2000],\n",
    "    'byte_count_per_second': [500, 800],\n",
    "    'byte_count_per_nsecond': [5000, 10000]\n",
    "})\n",
    "\n",
    "# Faire des prédictions\n",
    "predictions = predict_label(sample_data)\n",
    "print(predictions)\n"
   ],
   "id": "461b9a9256f2078c",
   "outputs": [
    {
     "name": "stdout",
     "output_type": "stream",
     "text": [
      "0    0\n",
      "1    0\n",
      "Name: Predictions, dtype: int64\n"
     ]
    }
   ],
   "execution_count": 36
  },
  {
   "metadata": {
    "ExecuteTime": {
     "end_time": "2024-12-19T13:35:52.944088Z",
     "start_time": "2024-12-19T13:35:52.930242Z"
    }
   },
   "cell_type": "code",
   "source": [
    "import joblib\n",
    "\n",
    "def predict_frame(frame):\n",
    "    \"\"\"\n",
    "    Prédit le type d'une trame (légitime ou attaque) à partir de ses caractéristiques.\n",
    "    \n",
    "    Args:\n",
    "        frame (dict): Un dictionnaire contenant les caractéristiques suivantes :\n",
    "            {\n",
    "                'timestamp': float,\n",
    "                'datapath_id': int,\n",
    "                'tp_src': int,\n",
    "                'tp_dst': int,\n",
    "                'ip_proto': int,\n",
    "                'icmp_code': int,\n",
    "                'icmp_type': int,\n",
    "                'flow_duration_sec': float,\n",
    "                'flow_duration_nsec': float,\n",
    "                'idle_timeout': int,\n",
    "                'hard_timeout': int,\n",
    "                'flags': int,\n",
    "                'packet_count': int,\n",
    "                'byte_count': int,\n",
    "                'packet_count_per_second': float,\n",
    "                'packet_count_per_nsecond': float,\n",
    "                'byte_count_per_second': float,\n",
    "                'byte_count_per_nsecond': float\n",
    "            }\n",
    "    \n",
    "    Returns:\n",
    "        int: 0 si la trame est légitime, 1 si elle correspond à une attaque.\n",
    "    \"\"\"\n",
    "    # Charger le modèle exporté\n",
    "    model = joblib.load('decision_tree_model.pkl')\n",
    "    \n",
    "    # Vérifier que toutes les caractéristiques nécessaires sont présentes\n",
    "    required_keys = [\n",
    "        'timestamp', 'datapath_id', 'tp_src', 'tp_dst', 'ip_proto',\n",
    "        'icmp_code', 'icmp_type', 'flow_duration_sec', 'flow_duration_nsec',\n",
    "        'idle_timeout', 'hard_timeout', 'flags', 'packet_count', \n",
    "        'byte_count', 'packet_count_per_second', 'packet_count_per_nsecond',\n",
    "        'byte_count_per_second', 'byte_count_per_nsecond'\n",
    "    ]\n",
    "    \n",
    "    if not all(key in frame for key in required_keys):\n",
    "        raise ValueError(\"Les caractéristiques suivantes manquent dans la trame : \" +\n",
    "                         \", \".join([key for key in required_keys if key not in frame]))\n",
    "    \n",
    "    # Organiser les caractéristiques dans le même ordre que lors de l'entraînement\n",
    "    features = [\n",
    "        frame['timestamp'], frame['datapath_id'], frame['tp_src'], frame['tp_dst'],\n",
    "        frame['ip_proto'], frame['icmp_code'], frame['icmp_type'], \n",
    "        frame['flow_duration_sec'], frame['flow_duration_nsec'], \n",
    "        frame['idle_timeout'], frame['hard_timeout'], frame['flags'], \n",
    "        frame['packet_count'], frame['byte_count'], \n",
    "        frame['packet_count_per_second'], frame['packet_count_per_nsecond'], \n",
    "        frame['byte_count_per_second'], frame['byte_count_per_nsecond']\n",
    "    ]\n",
    "    \n",
    "    # Prédire le type de la trame\n",
    "    \n",
    "    predictions = model.predict([features])[0]\n",
    "    print(predictions)\n",
    "    prediction=predictions[0]\n",
    "    return prediction\n"
   ],
   "id": "37a76a0b93bea15a",
   "outputs": [],
   "execution_count": 24
  },
  {
   "metadata": {
    "ExecuteTime": {
     "end_time": "2024-12-19T13:36:22.579347Z",
     "start_time": "2024-12-19T13:36:22.489406Z"
    }
   },
   "cell_type": "code",
   "source": [
    "# Exemple d'une trame à analyser\n",
    "frame = {\n",
    "    'timestamp': 123456789.0,\n",
    "    'datapath_id': 1,\n",
    "    'tp_src': 80,\n",
    "    'tp_dst': 443,\n",
    "    'ip_proto': 6,\n",
    "    'icmp_code': 0,\n",
    "    'icmp_type': 0,\n",
    "    'flow_duration_sec': 5.0,\n",
    "    'flow_duration_nsec': 200.0,\n",
    "    'idle_timeout': 30,\n",
    "    'hard_timeout': 60,\n",
    "    'flags': 2,\n",
    "    'packet_count': 50,\n",
    "    'byte_count': 2048,\n",
    "    'packet_count_per_second': 10.0,\n",
    "    'packet_count_per_nsecond': 1000.0,\n",
    "    'byte_count_per_second': 500.0,\n",
    "    'byte_count_per_nsecond': 5000.0\n",
    "}\n",
    "\n",
    "# Prédire le type de la trame\n",
    "result = predict_frame(frame)\n",
    "if result == 0:\n",
    "    print(\"Trame légitime\")\n",
    "else:\n",
    "    print(\"Trame correspondant à une attaque\")\n"
   ],
   "id": "2a714aeca9141644",
   "outputs": [
    {
     "name": "stdout",
     "output_type": "stream",
     "text": [
      "0\n"
     ]
    },
    {
     "name": "stderr",
     "output_type": "stream",
     "text": [
      "C:\\ProgramData\\anaconda3\\Lib\\site-packages\\sklearn\\base.py:493: UserWarning: X does not have valid feature names, but DecisionTreeClassifier was fitted with feature names\n",
      "  warnings.warn(\n"
     ]
    },
    {
     "ename": "IndexError",
     "evalue": "invalid index to scalar variable.",
     "output_type": "error",
     "traceback": [
      "\u001B[1;31m---------------------------------------------------------------------------\u001B[0m",
      "\u001B[1;31mIndexError\u001B[0m                                Traceback (most recent call last)",
      "Cell \u001B[1;32mIn[25], line 24\u001B[0m\n\u001B[0;32m      2\u001B[0m frame \u001B[38;5;241m=\u001B[39m {\n\u001B[0;32m      3\u001B[0m     \u001B[38;5;124m'\u001B[39m\u001B[38;5;124mtimestamp\u001B[39m\u001B[38;5;124m'\u001B[39m: \u001B[38;5;241m123456789.0\u001B[39m,\n\u001B[0;32m      4\u001B[0m     \u001B[38;5;124m'\u001B[39m\u001B[38;5;124mdatapath_id\u001B[39m\u001B[38;5;124m'\u001B[39m: \u001B[38;5;241m1\u001B[39m,\n\u001B[1;32m   (...)\u001B[0m\n\u001B[0;32m     20\u001B[0m     \u001B[38;5;124m'\u001B[39m\u001B[38;5;124mbyte_count_per_nsecond\u001B[39m\u001B[38;5;124m'\u001B[39m: \u001B[38;5;241m5000.0\u001B[39m\n\u001B[0;32m     21\u001B[0m }\n\u001B[0;32m     23\u001B[0m \u001B[38;5;66;03m# Prédire le type de la trame\u001B[39;00m\n\u001B[1;32m---> 24\u001B[0m result \u001B[38;5;241m=\u001B[39m predict_frame(frame)\n\u001B[0;32m     25\u001B[0m \u001B[38;5;28;01mif\u001B[39;00m result \u001B[38;5;241m==\u001B[39m \u001B[38;5;241m0\u001B[39m:\n\u001B[0;32m     26\u001B[0m     \u001B[38;5;28mprint\u001B[39m(\u001B[38;5;124m\"\u001B[39m\u001B[38;5;124mTrame légitime\u001B[39m\u001B[38;5;124m\"\u001B[39m)\n",
      "Cell \u001B[1;32mIn[24], line 64\u001B[0m, in \u001B[0;36mpredict_frame\u001B[1;34m(frame)\u001B[0m\n\u001B[0;32m     62\u001B[0m predictions \u001B[38;5;241m=\u001B[39m model\u001B[38;5;241m.\u001B[39mpredict([features])[\u001B[38;5;241m0\u001B[39m]\n\u001B[0;32m     63\u001B[0m \u001B[38;5;28mprint\u001B[39m(predictions)\n\u001B[1;32m---> 64\u001B[0m prediction\u001B[38;5;241m=\u001B[39mpredictions[\u001B[38;5;241m0\u001B[39m]\n\u001B[0;32m     65\u001B[0m \u001B[38;5;28;01mreturn\u001B[39;00m prediction\n",
      "\u001B[1;31mIndexError\u001B[0m: invalid index to scalar variable."
     ]
    }
   ],
   "execution_count": 25
  },
  {
   "metadata": {
    "ExecuteTime": {
     "end_time": "2024-12-19T13:46:56.034169Z",
     "start_time": "2024-12-19T13:46:56.019777Z"
    }
   },
   "cell_type": "code",
   "source": [
    "import pandas as pd\n",
    "import joblib\n",
    "\n",
    "def predict_frame(frame):\n",
    "    \"\"\"\n",
    "    Prédit le type d'une trame (légitime ou attaque) à partir de ses caractéristiques.\n",
    "    \n",
    "    Args:\n",
    "        frame (dict): Un dictionnaire contenant les caractéristiques nécessaires.\n",
    "\n",
    "    Returns:\n",
    "        int: 0 si la trame est légitime, 1 si elle correspond à une attaque.\n",
    "    \"\"\"\n",
    "    # Charger le modèle exporté\n",
    "    model = joblib.load('decision_tree_model.pkl')\n",
    "    \n",
    "    # Vérifier que toutes les caractéristiques nécessaires sont présentes\n",
    "    required_keys = [\n",
    "        'timestamp', 'datapath_id', 'tp_src', 'tp_dst', 'ip_proto',\n",
    "        'icmp_code', 'icmp_type', 'flow_duration_sec', 'flow_duration_nsec',\n",
    "        'idle_timeout', 'hard_timeout', 'flags', 'packet_count', \n",
    "        'byte_count', 'packet_count_per_second', 'packet_count_per_nsecond',\n",
    "        'byte_count_per_second', 'byte_count_per_nsecond'\n",
    "    ]\n",
    "    \n",
    "    if not all(key in frame for key in required_keys):\n",
    "        raise ValueError(\"Les caractéristiques suivantes manquent dans la trame : \" +\n",
    "                         \", \".join([key for key in required_keys if key not in frame]))\n",
    "    \n",
    "    # Convertir le dictionnaire en DataFrame avec une ligne\n",
    "    frame_df = pd.DataFrame([frame])\n",
    "    \n",
    "    # Prédire le type de la trame\n",
    "    predictions = model.predict(frame_df)\n",
    "    print(predictions)\n",
    "    prediction=predictions[0]\n",
    "    return prediction\n"
   ],
   "id": "1567287740ba4fb2",
   "outputs": [],
   "execution_count": 40
  },
  {
   "metadata": {
    "ExecuteTime": {
     "end_time": "2024-12-19T14:00:01.348030Z",
     "start_time": "2024-12-19T14:00:01.334557Z"
    }
   },
   "cell_type": "code",
   "source": [
    "# Exemple d'une trame à analyser\n",
    "frame = {\n",
    "    'timestamp': 9336945550,\n",
    "    'datapath_id': 1,\n",
    "    'tp_src': 80,\n",
    "    'tp_dst': 443,\n",
    "    'ip_proto': 6,\n",
    "    'icmp_code': 0,\n",
    "    'icmp_type': 8,\n",
    "    'flow_duration_sec': 50,\n",
    "    'flow_duration_nsec': 20,\n",
    "    'idle_timeout': 30,\n",
    "    'hard_timeout': 60,\n",
    "    'flags': 2,\n",
    "    'packet_count': 50,\n",
    "    'byte_count': 2048,\n",
    "    'packet_count_per_second': 10,\n",
    "    'packet_count_per_nsecond': 1,\n",
    "    'byte_count_per_second': 500,\n",
    "    'byte_count_per_nsecond': 50\n",
    "}\n",
    "\n",
    "# Prédire le type de la trame\n",
    "result = predict_frame(frame)\n",
    "if result == 0:\n",
    "    print(\"Trame légitime\")\n",
    "else:\n",
    "    print(\"Trame correspondant à une attaque\")\n"
   ],
   "id": "12334ff8f6be34ab",
   "outputs": [
    {
     "name": "stdout",
     "output_type": "stream",
     "text": [
      "[1]\n",
      "Trame correspondant à une attaque\n"
     ]
    }
   ],
   "execution_count": 69
  },
  {
   "metadata": {
    "ExecuteTime": {
     "end_time": "2024-12-19T14:08:10.085114Z",
     "start_time": "2024-12-19T14:07:08.719890Z"
    }
   },
   "cell_type": "code",
   "source": [
    "import pandas as pd\n",
    "import numpy as np\n",
    "from sklearn.cluster import KMeans\n",
    "from sklearn.preprocessing import StandardScaler\n",
    "import matplotlib.pyplot as plt\n",
    "from mpl_toolkits.mplot3d import Axes3D\n",
    "\n",
    "# Simulation of the dataset structure\n",
    "# Assuming 'df' already exists with the required structure\n",
    "columns = ['timestamp', 'datapath_id', 'tp_src', 'tp_dst', 'ip_proto', 'icmp_code',\n",
    "           'icmp_type', 'flow_duration_sec', 'flow_duration_nsec', 'idle_timeout',\n",
    "           'hard_timeout', 'flags', 'packet_count', 'byte_count',\n",
    "           'packet_count_per_second', 'packet_count_per_nsecond',\n",
    "           'byte_count_per_second', 'byte_count_per_nsecond', 'label']\n",
    "\n",
    "# Mock data for demonstration purposes\n",
    "np.random.seed(42)\n",
    "n_samples = 200\n",
    "# df = pd.DataFrame({\n",
    "#     'timestamp': np.random.uniform(1, 1000, n_samples),\n",
    "#     'datapath_id': np.random.randint(1, 5, n_samples),\n",
    "#     'tp_src': np.random.randint(1, 65535, n_samples),\n",
    "#     'tp_dst': np.random.randint(1, 65535, n_samples),\n",
    "#     'ip_proto': np.random.randint(1, 256, n_samples),\n",
    "#     'icmp_code': np.random.randint(0, 10, n_samples),\n",
    "#     'icmp_type': np.random.randint(0, 10, n_samples),\n",
    "#     'flow_duration_sec': np.random.uniform(0, 100, n_samples),\n",
    "#     'flow_duration_nsec': np.random.uniform(0, 100, n_samples),\n",
    "#     'idle_timeout': np.random.randint(1, 60, n_samples),\n",
    "#     'hard_timeout': np.random.randint(1, 120, n_samples),\n",
    "#     'flags': np.random.randint(0, 4, n_samples),\n",
    "#     'packet_count': np.random.randint(1, 1000, n_samples),\n",
    "#     'byte_count': np.random.randint(1, 100000, n_samples),\n",
    "#     'packet_count_per_second': np.random.uniform(1, 500, n_samples),\n",
    "#     'packet_count_per_nsecond': np.random.uniform(1, 1000, n_samples),\n",
    "#     'byte_count_per_second': np.random.uniform(1, 1000, n_samples),\n",
    "#     'byte_count_per_nsecond': np.random.uniform(1, 10000, n_samples),\n",
    "#     'label': np.random.choice([0, 1], n_samples)\n",
    "# })\n",
    "\n",
    "# Extract features and labels\n",
    "x = df[['timestamp', 'datapath_id', 'tp_src', 'tp_dst', 'ip_proto', 'icmp_code',\n",
    "        'icmp_type', 'flow_duration_sec', 'flow_duration_nsec', 'idle_timeout',\n",
    "        'hard_timeout', 'flags', 'packet_count', 'byte_count',\n",
    "        'packet_count_per_second', 'packet_count_per_nsecond',\n",
    "        'byte_count_per_second', 'byte_count_per_nsecond']]\n",
    "y = df[['label']]\n",
    "\n",
    "# Select relevant features for clustering\n",
    "features_for_clustering = ['timestamp', 'packet_count_per_second', 'byte_count_per_second']\n",
    "X_selected = x[features_for_clustering]\n",
    "\n",
    "# Scale the features\n",
    "scaler = StandardScaler()\n",
    "X_scaled = scaler.fit_transform(X_selected)\n",
    "\n",
    "# Perform KMeans clustering\n",
    "kmeans = KMeans(n_clusters=3, random_state=42)\n",
    "clusters = kmeans.fit_predict(X_scaled)\n",
    "\n",
    "# Visualization\n",
    "fig = plt.figure(figsize=(10, 8))\n",
    "ax = fig.add_subplot(111, projection='3d')\n",
    "\n",
    "# Scatter plot with cluster labels\n",
    "scatter = ax.scatter(X_selected['timestamp'], \n",
    "                     X_selected['packet_count_per_second'], \n",
    "                     X_selected['byte_count_per_second'], \n",
    "                     c=clusters, cmap='viridis', s=50)\n",
    "\n",
    "# Labels and legend\n",
    "ax.set_title('3D Clustering Visualization', fontsize=14)\n",
    "ax.set_xlabel('Timestamp', fontsize=12)\n",
    "ax.set_ylabel('Packet Count Per Second', fontsize=12)\n",
    "ax.set_zlabel('Byte Count Per Second', fontsize=12)\n",
    "plt.colorbar(scatter, ax=ax, label='Cluster')\n",
    "\n",
    "plt.show()\n"
   ],
   "id": "8557602ddd20fe18",
   "outputs": [
    {
     "data": {
      "text/plain": [
       "<Figure size 1000x800 with 2 Axes>"
      ],
      "image/png": "[encoded data removed]"
     },
     "metadata": {},
     "output_type": "display_data"
    }
   ],
   "execution_count": 71
  },
  {
   "metadata": {},
   "cell_type": "code",
   "outputs": [],
   "execution_count": null,
   "source": "",
   "id": "f3edac7c66454978"
  }
 ],
 "metadata": {
  "kernelspec": {
   "display_name": "Python 3",
   "language": "python",
   "name": "python3"
  },
  "language_info": {
   "codemirror_mode": {
    "name": "ipython",
    "version": 2
   },
   "file_extension": ".py",
   "mimetype": "text/x-python",
   "name": "python",
   "nbconvert_exporter": "python",
   "pygments_lexer": "ipython2",
   "version": "2.7.6"
  }
 },
 "nbformat": 4,
 "nbformat_minor": 5
}
